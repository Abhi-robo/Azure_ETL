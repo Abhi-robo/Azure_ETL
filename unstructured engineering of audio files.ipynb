{
 "cells": [
  {
   "cell_type": "code",
   "execution_count": null,
   "metadata": {
    "application/vnd.databricks.v1+cell": {
     "cellMetadata": {},
     "inputWidgets": {},
     "nuid": "ca0a2d01-2228-4d3c-9efc-5146fb965df2",
     "showTitle": true,
     "title": "Importing package"
    }
   },
   "outputs": [],
   "source": [
    "pip install azure.storage.blob"
   ]
  },
  {
   "cell_type": "code",
   "execution_count": null,
   "metadata": {
    "application/vnd.databricks.v1+cell": {
     "cellMetadata": {},
     "inputWidgets": {},
     "nuid": "4ddfdecd-38ab-4729-a09e-6d1733124fd6",
     "showTitle": true,
     "title": "initializing the variables"
    }
   },
   "outputs": [],
   "source": [
    "blob_service_client=\"\"\n",
    "connection_string = \"\"\n",
    "da=\"\"\n",
    "source_container_name=\"\"\n",
    "destination_container_name=\"\"\n",
    "records_read=0\n",
    "record_inserted=0\n",
    "df=\"\"\n",
    "system_id = 0\n",
    "trigged_by = dbutils.notebook.entry_point.getDbutils().notebook().getContext().userName().get()"
   ]
  },
  {
   "cell_type": "code",
   "execution_count": null,
   "metadata": {
    "application/vnd.databricks.v1+cell": {
     "cellMetadata": {},
     "inputWidgets": {},
     "nuid": "0545e492-0348-4b03-93a9-92ffb3b0d786",
     "showTitle": true,
     "title": "Get details from seed table"
    }
   },
   "outputs": [],
   "source": [
    "def check_seed_table():\n",
    "    qury=\"select * from spark_catalog.bcp_control.tb_system_seed where Application_Name = 'unstructured engineering' and Source_DB = 'landing'\"\n",
    "    print(qury)\n",
    "    systemdf= spark.sql(qury)\n",
    "    if(systemdf.count()==0):\n",
    "        raise Exception(\"Data not present\")\n",
    "    return systemdf\n",
    "\n",
    "try:\n",
    "    systemdf=check_seed_table()\n",
    "    system_id=systemdf.collect()[0].System_Id\n",
    "    source_container_name = systemdf.collect()[0].Source_DB\n",
    "    destination_container_name = systemdf.collect()[0].Target_DB\n",
    "    source_folder_name=systemdf.collect()[0].Source_Object_Name\n",
    "    destination_folder_name=systemdf.collect()[0].Target_Object_Name\n",
    "    display(systemdf)\n",
    "except Exception as e:\n",
    "    exp=str(e)\n",
    "    my_json={\"records_read\":records_read,\"record_inserted\":record_inserted,\"trigged_by\":trigged_by,\"exception\":exp,\"system_id\":system_id}\n",
    "    dbutils.notebook.exit(my_json)\n",
    "\n",
    "print(str(system_id)+\",\"+source_container_name+\",\"+source_folder_name+\",\"+destination_container_name+\",\"+destination_folder_name)"
   ]
  },
  {
   "cell_type": "code",
   "execution_count": null,
   "metadata": {
    "application/vnd.databricks.v1+cell": {
     "cellMetadata": {},
     "inputWidgets": {},
     "nuid": "713e8401-21bc-43ad-a9da-591f7991641c",
     "showTitle": true,
     "title": "Getting the audio files from landing container"
    }
   },
   "outputs": [],
   "source": [
    "def get_audioFile_data():\n",
    "    return spark.createDataFrame(dbutils.fs.ls(\"dbfs:/mnt/landing/AudioFiles/\"))\n",
    "\n",
    "def get_nameOfAudioFile(df):\n",
    "    df.createOrReplaceTempView(\"audioFile\")\n",
    "    return spark.sql(\"select name from audioFile\")\n",
    "\n",
    "try:\n",
    "    df=get_audioFile_data()\n",
    "    if(df.count()== 0):\n",
    "        exp=\"No new audio file is present\"\n",
    "        my_json={\"records_read\":records_read,\"record_inserted\":record_inserted,\"trigged_by\":trigged_by,\"exception\":exp,\"system_id\":system_id}\n",
    "        dbutils.notebook.exit(my_json)\n",
    "    da=get_nameOfAudioFile(df)\n",
    "except Exception as e:\n",
    "    exp=str(e)\n",
    "    my_json={\"records_read\":records_read,\"record_inserted\":record_inserted,\"trigged_by\":trigged_by,\"exception\":exp,\"system_id\":system_id}\n",
    "    dbutils.notebook.exit(my_json)\n",
    "\n"
   ]
  },
  {
   "cell_type": "code",
   "execution_count": null,
   "metadata": {
    "application/vnd.databricks.v1+cell": {
     "cellMetadata": {},
     "inputWidgets": {},
     "nuid": "0caa47bb-01d8-4ae5-aca5-5085ee03319a",
     "showTitle": true,
     "title": "Creating connection with the storage account"
    }
   },
   "outputs": [],
   "source": [
    "from azure.storage.blob import BlobServiceClient, BlobType\n",
    "def create_connection(conn_string):\n",
    "    return BlobServiceClient.from_connection_string(conn_string)\n",
    "\n",
    "try:\n",
    "    blob_service_client = create_connection(connection_string)\n",
    "except Exception as e:\n",
    "    exp=str(e)\n",
    "    my_json={\"records_read\":records_read,\"record_inserted\":record_inserted,\"trigged_by\":trigged_by,\"exception\":exp,\"system_id\":system_id}\n",
    "    dbutils.notebook.exit(my_json)"
   ]
  },
  {
   "cell_type": "code",
   "execution_count": null,
   "metadata": {
    "application/vnd.databricks.v1+cell": {
     "cellMetadata": {},
     "inputWidgets": {},
     "nuid": "58301ab6-8322-4e97-ae52-88e6cdf2d467",
     "showTitle": true,
     "title": "Reading the audio file from landing container"
    }
   },
   "outputs": [],
   "source": [
    "\n",
    "def read_audio(source_container_name,source_blob_name):\n",
    "    return blob_service_client.get_blob_client(container=source_container_name, blob=source_blob_name,snapshot=None)\n"
   ]
  },
  {
   "cell_type": "code",
   "execution_count": null,
   "metadata": {
    "application/vnd.databricks.v1+cell": {
     "cellMetadata": {},
     "inputWidgets": {},
     "nuid": "2889a8d5-0df1-4aa4-b15c-cb09feb4425d",
     "showTitle": true,
     "title": "Writing audio file into raw container"
    }
   },
   "outputs": [],
   "source": [
    "def writing_audio(destination_blob_name,source_blob_client):\n",
    "    destination_blob_client= blob_service_client.get_blob_client(container=destination_container_name, blob=destination_blob_name)\n",
    "    copy_operation = destination_blob_client.start_copy_from_url(source_blob_client.url)\n",
    "    copy_status = destination_blob_client.get_blob_properties().copy.status\n",
    "    while copy_status == \"pending\":\n",
    "        copy_status = destination_blob_client.get_blob_properties().copy.status\n",
    "    if copy_status == \"success\":\n",
    "        print (\"Copied Blob URL:\", destination_blob_client.url)\n",
    "    else:\n",
    "        print(\"Blob copy operation failed.\")\n",
    "    return copy_status\n",
    "    "
   ]
  },
  {
   "cell_type": "code",
   "execution_count": null,
   "metadata": {
    "application/vnd.databricks.v1+cell": {
     "cellMetadata": {},
     "inputWidgets": {},
     "nuid": "573ab000-abe8-4873-a476-e438920392f2",
     "showTitle": true,
     "title": "Iterating through list of audio files and transferring it to raw container"
    }
   },
   "outputs": [],
   "source": [
    "data_collect = da.collect()\n",
    "records_read = da.count()\n",
    "flag=0\n",
    "for row in data_collect:\n",
    "    source_blob_name=str(\"AudioFiles/\"+row[\"name\"])\n",
    "    destination_blob_name=str(\"AudioFiles/\"+str(row[\"name\"]))\n",
    "    print(source_blob_name + \"  \"+destination_blob_name)\n",
    "    try:\n",
    "        source_blob_client = read_audio(source_container_name,source_blob_name)\n",
    "        print(\"source_blob_client executed\")\n",
    "        status = writing_audio(destination_blob_name,source_blob_client)\n",
    "        print( \"status  executed\"+ str(status))\n",
    "        if(status != \"success\"):\n",
    "            flag=1\n",
    "            print(\"failed\")\n",
    "            break\n",
    "    except Exception as e:\n",
    "        exp=str(e)\n",
    "        my_json={\"records_read\":records_read,\"record_inserted\":record_inserted,\"trigged_by\":trigged_by,\"exception\":exp,\"system_id\":system_id}\n",
    "        dbutils.notebook.exit(my_json)\n",
    "\n",
    "record_inserted=da.count()"
   ]
  },
  {
   "cell_type": "code",
   "execution_count": null,
   "metadata": {
    "application/vnd.databricks.v1+cell": {
     "cellMetadata": {},
     "inputWidgets": {},
     "nuid": "63a5661c-f7db-46db-93dc-45ed48b218d7",
     "showTitle": true,
     "title": "Moving audio files into Archive folder"
    }
   },
   "outputs": [],
   "source": [
    "file_location =df.collect()\n",
    "display(df)\n",
    "if flag==0:\n",
    "    for r in file_location:\n",
    "        print(r)\n",
    "        dbutils.fs.mv(r[\"path\"],\"dbfs:/mnt/landing/Archive/\"+r[\"name\"])"
   ]
  },
  {
   "cell_type": "code",
   "execution_count": null,
   "metadata": {
    "application/vnd.databricks.v1+cell": {
     "cellMetadata": {},
     "inputWidgets": {},
     "nuid": "e4fd5653-0742-4fcc-a35d-0d1236fa43d8",
     "showTitle": false,
     "title": ""
    }
   },
   "outputs": [],
   "source": [
    "my_json={\"records_read\":records_read,\"record_inserted\":record_inserted,\"trigged_by\":trigged_by,\"exception\":'',\"system_id\":system_id}\n",
    "dbutils.notebook.exit(my_json)"
   ]
  },
  {
   "cell_type": "code",
   "execution_count": null,
   "metadata": {
    "application/vnd.databricks.v1+cell": {
     "cellMetadata": {},
     "inputWidgets": {},
     "nuid": "5a69386d-1448-4d05-ba04-c27afca629b9",
     "showTitle": false,
     "title": ""
    }
   },
   "outputs": [],
   "source": []
  }
 ],
 "metadata": {
  "application/vnd.databricks.v1+notebook": {
   "dashboards": [],
   "language": "python",
   "notebookMetadata": {
    "pythonIndentUnit": 4
   },
   "notebookName": "unstructured engineering of audio files",
   "widgets": {}
  },
  "language_info": {
   "name": "python"
  }
 },
 "nbformat": 4,
 "nbformat_minor": 0
}
