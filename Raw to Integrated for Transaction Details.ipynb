{
 "cells": [
  {
   "cell_type": "code",
   "execution_count": 0,
   "metadata": {
    "application/vnd.databricks.v1+cell": {
     "cellMetadata": {},
     "inputWidgets": {},
     "nuid": "fd1dc5bd-0f6e-4092-9b85-5a9fdad4c110",
     "showTitle": true,
     "title": "Mounting raw container"
    }
   },
   "outputs": [],
   "source": [
    "def mounting_raw():\n",
    "    dbutils.fs.mount(\n",
    "        source=\"wasbs://raw@pracpipeline.blob.core.windows.net\",\n",
    "        mount_point='/mnt/raw',\n",
    "        extra_configs = {\n",
    "            \"fs.azure.account.key.pracpipeline.blob.core.windows.net\": \"8DmFEfAaT2VoAD2oFUhEeDOs6NQEsUNlyYjg6LzA5TYEcwQhTD+JEr5d5LwVDjZwMlD7/Pe8xH2P+AStwJ5tQA==\"\n",
    "        }\n",
    "    )\n",
    "try:\n",
    "    mounting_raw()\n",
    "except Exception as e:\n",
    "    print(\"Raw Container already mounted\")\n"
   ]
  },
  {
   "cell_type": "code",
   "execution_count": 0,
   "metadata": {
    "application/vnd.databricks.v1+cell": {
     "cellMetadata": {},
     "inputWidgets": {},
     "nuid": "4a72f19c-c740-447a-9fd0-6bfa0efbfdab",
     "showTitle": true,
     "title": "Mounting integrated container"
    }
   },
   "outputs": [],
   "source": [
    "def mounting_integrated():\n",
    "    dbutils.fs.mount(\n",
    "        source=\"wasbs://integrated@pracpipeline.blob.core.windows.net\",\n",
    "        mount_point='/mnt/integrated',\n",
    "        extra_configs = {\n",
    "            \"fs.azure.account.key.pracpipeline.blob.core.windows.net\": \"8DmFEfAaT2VoAD2oFUhEeDOs6NQEsUNlyYjg6LzA5TYEcwQhTD+JEr5d5LwVDjZwMlD7/Pe8xH2P+AStwJ5tQA==\"\n",
    "        }\n",
    "    )\n",
    "\n",
    "try:\n",
    "    mounting_integrated()\n",
    "except Exception as e:\n",
    "    print(\"Integrated Container already mounted\")"
   ]
  },
  {
   "cell_type": "code",
   "execution_count": 0,
   "metadata": {
    "application/vnd.databricks.v1+cell": {
     "cellMetadata": {},
     "inputWidgets": {},
     "nuid": "b9614cda-13bd-4d57-b93c-8c32ad286372",
     "showTitle": true,
     "title": "Initializing variables"
    }
   },
   "outputs": [],
   "source": [
    "records_read=0\n",
    "record_inserted=0\n",
    "df=\"\"\n",
    "system_id = 3\n",
    "new_aggdata=\"\"\n",
    "trigged_by = dbutils.notebook.entry_point.getDbutils().notebook().getContext().userName().get()\n"
   ]
  },
  {
   "cell_type": "code",
   "execution_count": 0,
   "metadata": {
    "application/vnd.databricks.v1+cell": {
     "cellMetadata": {},
     "inputWidgets": {},
     "nuid": "0d7fe1c4-bf1b-43cf-bc44-8601a5535b26",
     "showTitle": true,
     "title": "Checking whether the inputs is present in seed_table"
    }
   },
   "outputs": [],
   "source": [
    "def check_seed_table(system_id):\n",
    "    system_id=int(system_id)\n",
    "    qury=\"select * from spark_catalog.bcp_control.tb_system_seed where System_Id=\"+str(system_id)\n",
    "    print(qury)\n",
    "    systemdf= spark.sql(qury)\n",
    "    if(systemdf.count()==0):\n",
    "        raise Exception(\"Data not present\")\n",
    "    return systemdf"
   ]
  },
  {
   "cell_type": "code",
   "execution_count": 0,
   "metadata": {
    "application/vnd.databricks.v1+cell": {
     "cellMetadata": {},
     "inputWidgets": {},
     "nuid": "8a26549c-cf9d-48fc-a775-ec28165a9c5b",
     "showTitle": false,
     "title": ""
    }
   },
   "outputs": [],
   "source": [
    "try:\n",
    "    systemdf=check_seed_table(system_id)\n",
    "    source_db = systemdf.collect()[0].Source_DB\n",
    "    source_type = systemdf.collect()[0].Source_Type\n",
    "    source_object_name = systemdf.collect()[0].Source_Object_Name\n",
    "    target_type = systemdf.collect()[0].Target_Type\n",
    "    target_db = systemdf.collect()[0].Target_DB\n",
    "    target_object_name = systemdf.collect()[0].Target_Object_Name\n",
    "    application_name = systemdf.collect()[0].Application_Name\n",
    "    isDelta=systemdf.collect()[0].IsDelta\n",
    "    deltaField=systemdf.collect()[0].Delta_Field\n",
    "    display(systemdf)\n",
    "except Exception as e:\n",
    "    exp=str(e)\n",
    "    my_json={\"records_read\":records_read,\"record_inserted\":record_inserted,\"trigged_by\":trigged_by,\"exception\":exp,\"system_id\":system_id}\n",
    "    dbutils.notebook.exit(my_json)\n",
    "\n",
    "print(deltaField)\n"
   ]
  },
  {
   "cell_type": "code",
   "execution_count": 0,
   "metadata": {
    "application/vnd.databricks.v1+cell": {
     "cellMetadata": {},
     "inputWidgets": {},
     "nuid": "b6e83dc0-a3dd-468a-bc58-a92ca3a153bf",
     "showTitle": true,
     "title": "Reading file"
    }
   },
   "outputs": [],
   "source": [
    "#reading file from data lake ie storage account\n",
    "def read_file(path):\n",
    "    return spark.read.format(\"delta\").option(\"header\",\"true\").option(\"inferSchema\",\"true\").csv(path)\n"
   ]
  },
  {
   "cell_type": "code",
   "execution_count": 0,
   "metadata": {
    "application/vnd.databricks.v1+cell": {
     "cellMetadata": {},
     "inputWidgets": {},
     "nuid": "dc1ade4f-2125-4a63-bc88-1ce54571943c",
     "showTitle": false,
     "title": ""
    }
   },
   "outputs": [],
   "source": [
    "try:\n",
    "    path=\"dbfs:/mnt/\"+source_db+\"/\"+source_object_name+\".\"+source_type\n",
    "    df=read_file(path)\n",
    "except Exception as e:\n",
    "    exp=str(e)\n",
    "    my_json={\"records_read\":records_read,\"record_inserted\":record_inserted,\"trigged_by\":trigged_by,\"exception\":exp,\"system_id\":system_id}\n",
    "    dbutils.notebook.exit(my_json)\n",
    "display(df)\n"
   ]
  },
  {
   "cell_type": "code",
   "execution_count": 0,
   "metadata": {
    "application/vnd.databricks.v1+cell": {
     "cellMetadata": {},
     "inputWidgets": {},
     "nuid": "a4d6f384-8b36-4b77-bc22-c22beca95f9f",
     "showTitle": true,
     "title": "full load or incremental load"
    }
   },
   "outputs": [],
   "source": [
    "#funtion to have full load when is delta is false\n",
    "def get_new_data(df):\n",
    "    df.createOrReplaceTempView(\"data\")\n",
    "    return (spark.sql(\"\"\"select * from data\"\"\"))"
   ]
  },
  {
   "cell_type": "code",
   "execution_count": 0,
   "metadata": {
    "application/vnd.databricks.v1+cell": {
     "cellMetadata": {},
     "inputWidgets": {},
     "nuid": "9433a541-da21-48c3-a0dc-104bb95c80ec",
     "showTitle": false,
     "title": ""
    }
   },
   "outputs": [],
   "source": [
    "try:\n",
    "    aggdata=get_new_data(df)\n",
    "    records_read=aggdata.count()\n",
    "    record_inserted=aggdata.count()\n",
    "except Exception as e:\n",
    "    exp=\"data not found\"\n",
    "    my_json={\"records_read\":records_read,\"record_inserted\":record_inserted,\"trigged_by\":trigged_by,\"exception\":exp,\"system_id\":system_id}"
   ]
  },
  {
   "cell_type": "code",
   "execution_count": 0,
   "metadata": {
    "application/vnd.databricks.v1+cell": {
     "cellMetadata": {},
     "inputWidgets": {},
     "nuid": "48594995-eb3b-4f4d-a508-bdb7d2dc3459",
     "showTitle": true,
     "title": "when isDelta is true"
    }
   },
   "outputs": [],
   "source": [
    "def get_old_data(df1):\n",
    "    df1.createOrReplaceTempView(\"data_old\")\n",
    "    qu=\"select * from data_old\"\n",
    "    agg=spark.sql(qu)\n",
    "    return agg\n",
    "def new_data(df,df1,deltaField):\n",
    "    df.createOrReplaceTempView(\"data\")\n",
    "    df1.createOrReplaceTempView(\"data_old\")\n",
    "    qur=\"select * from data where '\"+deltaField+\"' >(select max('\"+deltaField+\"') from data_old)\" \n",
    "    print(qur)\n",
    "    new_aggdata=spark.sql(qur)\n",
    "    return new_aggdata\n",
    "def updated_data(aggdata,new_aggdata):\n",
    "    aggdata=aggdata.unionByName(new_aggdata)\n",
    "    return aggdata"
   ]
  },
  {
   "cell_type": "code",
   "execution_count": 0,
   "metadata": {
    "application/vnd.databricks.v1+cell": {
     "cellMetadata": {},
     "inputWidgets": {},
     "nuid": "62f07288-c8f8-4df2-9c1b-4596bff28934",
     "showTitle": false,
     "title": ""
    }
   },
   "outputs": [],
   "source": [
    "if(isDelta==True):\n",
    "    try:\n",
    "        path=\"dbfs:/mnt/integrated/\"+target_object_name+\".\"+target_type\n",
    "        df1=read_file(path)\n",
    "        old_data=get_old_data(df1)\n",
    "        delta=deltaField.split(',')\n",
    "        new_aggdata=old_data\n",
    "        print(delta)\n",
    "        for x in delta:\n",
    "            print(x)\n",
    "            new_aggdata=new_data(df,new_aggdata,x)\n",
    "        record_inserted=new_aggdata.count()\n",
    "        aggdata=updated_data(old_data,new_aggdata)\n",
    "    except Exception as e:\n",
    "        exp=str(e)\n",
    "        my_json={\"records_read\":records_read,\"record_inserted\":record_inserted,\"trigged_by\":trigged_by,\"exception\":exp,\"system_id\":system_id}\n",
    "print(record_inserted)\n"
   ]
  },
  {
   "cell_type": "code",
   "execution_count": 0,
   "metadata": {
    "application/vnd.databricks.v1+cell": {
     "cellMetadata": {},
     "inputWidgets": {},
     "nuid": "0512421d-4290-4b8a-b6f2-de28918dcfa7",
     "showTitle": false,
     "title": ""
    }
   },
   "outputs": [],
   "source": [
    "\n",
    "display(aggdata)"
   ]
  },
  {
   "cell_type": "code",
   "execution_count": 0,
   "metadata": {
    "application/vnd.databricks.v1+cell": {
     "cellMetadata": {},
     "inputWidgets": {},
     "nuid": "3435160e-f675-46ce-88cb-50948afb09b1",
     "showTitle": true,
     "title": "Writing data"
    }
   },
   "outputs": [],
   "source": [
    "#writing file into data lake ie storage account as csv\n",
    "def write_file(data,outputpath):\n",
    "    data.write.option(\"header\",\"true\").format(\"delta\").option(\"delta.columnMapping.mode\", \"name\").mode('overwrite').save(outputpath)\n"
   ]
  },
  {
   "cell_type": "code",
   "execution_count": 0,
   "metadata": {
    "application/vnd.databricks.v1+cell": {
     "cellMetadata": {},
     "inputWidgets": {},
     "nuid": "59214644-4dd9-4830-be9a-70f6446f82e0",
     "showTitle": false,
     "title": ""
    }
   },
   "outputs": [],
   "source": [
    "\n",
    "try:\n",
    "    outputpath=\"dbfs:/mnt/integrated/\"+target_object_name\n",
    "    write_file(aggdata,outputpath)\n",
    "except Exception as e:\n",
    "    exp=str(e)\n",
    "    my_json={\"records_read\":records_read,\"record_inserted\":record_inserted,\"trigged_by\":trigged_by,\"exception\":exp,\"system_id\":system_id}\n",
    "    dbutils.notebook.exit(my_json)\n",
    "\n"
   ]
  },
  {
   "cell_type": "code",
   "execution_count": 0,
   "metadata": {
    "application/vnd.databricks.v1+cell": {
     "cellMetadata": {},
     "inputWidgets": {},
     "nuid": "241e1aa5-5c30-425d-b6b6-e10714cd76c2",
     "showTitle": true,
     "title": "sending json to pipeline into control"
    }
   },
   "outputs": [],
   "source": [
    "my_json={\"records_read\":records_read,\"record_inserted\":record_inserted,\"trigged_by\":trigged_by,\"exception\":'',\"system_id\":system_id}\n",
    "dbutils.notebook.exit(my_json)"
   ]
  },
  {
   "cell_type": "code",
   "execution_count": 0,
   "metadata": {
    "application/vnd.databricks.v1+cell": {
     "cellMetadata": {},
     "inputWidgets": {},
     "nuid": "a3587ecb-399d-44df-aa7e-d42e1b492a6a",
     "showTitle": false,
     "title": ""
    }
   },
   "outputs": [],
   "source": []
  }
 ],
 "metadata": {
  "application/vnd.databricks.v1+notebook": {
   "dashboards": [],
   "language": "python",
   "notebookMetadata": {
    "pythonIndentUnit": 4
   },
   "notebookName": "Raw to Integrated for Transaction Details",
   "widgets": {}
  }
 },
 "nbformat": 4,
 "nbformat_minor": 0
}
